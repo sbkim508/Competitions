{
 "cells": [
  {
   "cell_type": "markdown",
   "id": "historic-label",
   "metadata": {},
   "source": [
    "# 1. 환경설정 및 데이터 업로드 "
   ]
  },
  {
   "cell_type": "code",
   "execution_count": 1,
   "id": "closing-mission",
   "metadata": {},
   "outputs": [],
   "source": [
    "import pandas as pd\n",
    "import numpy as np\n",
    "import seaborn as sns\n",
    "import matplotlib.pyplot as plt\n",
    "\n",
    "from sklearn.preprocessing import MinMaxScaler, LabelEncoder, OneHotEncoder\n",
    "from sklearn.model_selection import train_test_split, KFold, StratifiedKFold\n",
    "from bayes_opt import BayesianOptimization\n",
    "from sklearn.metrics import r2_score\n",
    "\n",
    "from sklearn.ensemble import RandomForestRegressor\n",
    "from catboost import CatBoostRegressor, Pool\n",
    "from lightgbm import LGBMRegressor\n",
    "\n",
    "import warnings\n",
    "warnings.filterwarnings('ignore')\n",
    "\n",
    "pd.set_option('display.max_rows', 500)\n",
    "pd.set_option('display.max_columns', 300)\n",
    "pd.set_option('display.max_colwidth', 30)\n",
    "pd.options.display.float_format = '{:.5f}'.format"
   ]
  },
  {
   "cell_type": "code",
   "execution_count": 2,
   "id": "liked-catholic",
   "metadata": {},
   "outputs": [
    {
     "name": "stdout",
     "output_type": "stream",
     "text": [
      "(32000, 5) (4640, 4) (4640, 2)\n"
     ]
    }
   ],
   "source": [
    "train = pd.read_csv('./data/train_df.csv', engine='python',encoding='CP949')\n",
    "test = pd.read_csv('./data/test_df.csv', engine='python',encoding='CP949')\n",
    "\n",
    "# 불필요한 변수 제거\n",
    "train.drop('index', axis=1 ,inplace= True)\n",
    "test.drop('index', axis=1 ,inplace= True)\n",
    "submission = pd.read_csv('./data/sample_submission.csv', engine='python',encoding='CP949')\n",
    "print(train.shape, test.shape, submission.shape)"
   ]
  },
  {
   "cell_type": "markdown",
   "id": "prime-concentration",
   "metadata": {},
   "source": [
    "# 2. 데이터 전처리"
   ]
  },
  {
   "cell_type": "markdown",
   "id": "conscious-determination",
   "metadata": {},
   "source": [
    "#### 2.1) 고유격자번호와 상품 카테고리를 Feature engineering 실시"
   ]
  },
  {
   "cell_type": "code",
   "execution_count": 3,
   "id": "qualified-emperor",
   "metadata": {},
   "outputs": [],
   "source": [
    "# 시군구 코드(시 2가지, 군구 3가지)\n",
    "def trans_INNB(data):\n",
    "    df = data.copy()\n",
    "    \n",
    "    # 고유번호 5자리는 시군구로 확인, 이를 이용하여 전처리 시행\n",
    "    df['SEND_SPG_INNB'] = df['SEND_SPG_INNB'].astype('str')\n",
    "    df['REC_SPG_INNB'] = df['REC_SPG_INNB'].astype('str')\n",
    "    \n",
    "    df['SEND_1'] = df['SEND_SPG_INNB'].apply(lambda x : x[:2])\n",
    "    df['SEND_2'] = df['SEND_SPG_INNB'].apply(lambda x : x[2:5])\n",
    "    \n",
    "    df['REC_1'] = df['REC_SPG_INNB'].apply(lambda x : x[:2])\n",
    "    df['REC_2'] = df['REC_SPG_INNB'].apply(lambda x : x[2:5])\n",
    "\n",
    "    \n",
    "    ## ID 생성: 각 컬럼의 값들을 더해서 고유한 물류 이동으로 가정\n",
    "    df['ID_category'] = \\\n",
    "    df['DL_GD_LCLS_NM'].astype(str) + '_' + df['DL_GD_MCLS_NM'].astype(str)\n",
    "    \n",
    "    df['ID_1'] = \\\n",
    "    df['SEND_SPG_INNB'].astype(str) + '_' + df['REC_SPG_INNB'].astype(str) \n",
    "    \n",
    "    df['ID_2'] = \\\n",
    "    df['SEND_1'].astype(str) + '_' + df['REC_1'].astype(str) \n",
    "    \n",
    "    df['ID_3'] = \\\n",
    "    df['SEND_1'].astype(str) + df['SEND_2'].astype('str') + '_' + df['REC_1'].astype(str) + df['REC_2'].astype(str) \n",
    "    \n",
    "    return df\n",
    "\n",
    "train = trans_INNB(train)\n",
    "test = trans_INNB(test)"
   ]
  },
  {
   "cell_type": "code",
   "execution_count": 4,
   "id": "forbidden-teddy",
   "metadata": {},
   "outputs": [
    {
     "data": {
      "text/html": [
       "<div>\n",
       "<style scoped>\n",
       "    .dataframe tbody tr th:only-of-type {\n",
       "        vertical-align: middle;\n",
       "    }\n",
       "\n",
       "    .dataframe tbody tr th {\n",
       "        vertical-align: top;\n",
       "    }\n",
       "\n",
       "    .dataframe thead th {\n",
       "        text-align: right;\n",
       "    }\n",
       "</style>\n",
       "<table border=\"1\" class=\"dataframe\">\n",
       "  <thead>\n",
       "    <tr style=\"text-align: right;\">\n",
       "      <th></th>\n",
       "      <th>SEND_SPG_INNB</th>\n",
       "      <th>REC_SPG_INNB</th>\n",
       "      <th>DL_GD_LCLS_NM</th>\n",
       "      <th>DL_GD_MCLS_NM</th>\n",
       "      <th>INVC_CONT</th>\n",
       "      <th>SEND_1</th>\n",
       "      <th>SEND_2</th>\n",
       "      <th>REC_1</th>\n",
       "      <th>REC_2</th>\n",
       "      <th>ID_category</th>\n",
       "      <th>ID_1</th>\n",
       "      <th>ID_2</th>\n",
       "      <th>ID_3</th>\n",
       "    </tr>\n",
       "  </thead>\n",
       "  <tbody>\n",
       "    <tr>\n",
       "      <th>0</th>\n",
       "      <td>1129000014045300</td>\n",
       "      <td>5011000220046300</td>\n",
       "      <td>패션의류</td>\n",
       "      <td>상의</td>\n",
       "      <td>3</td>\n",
       "      <td>11</td>\n",
       "      <td>290</td>\n",
       "      <td>50</td>\n",
       "      <td>110</td>\n",
       "      <td>패션의류_상의</td>\n",
       "      <td>1129000014045300_501100022...</td>\n",
       "      <td>11_50</td>\n",
       "      <td>11290_50110</td>\n",
       "    </tr>\n",
       "    <tr>\n",
       "      <th>1</th>\n",
       "      <td>1135000009051200</td>\n",
       "      <td>5011000178037300</td>\n",
       "      <td>생활/건강</td>\n",
       "      <td>반려동물</td>\n",
       "      <td>3</td>\n",
       "      <td>11</td>\n",
       "      <td>350</td>\n",
       "      <td>50</td>\n",
       "      <td>110</td>\n",
       "      <td>생활/건강_반려동물</td>\n",
       "      <td>1135000009051200_501100017...</td>\n",
       "      <td>11_50</td>\n",
       "      <td>11350_50110</td>\n",
       "    </tr>\n",
       "    <tr>\n",
       "      <th>2</th>\n",
       "      <td>1135000030093100</td>\n",
       "      <td>5011000265091400</td>\n",
       "      <td>패션의류</td>\n",
       "      <td>기타패션의류</td>\n",
       "      <td>9</td>\n",
       "      <td>11</td>\n",
       "      <td>350</td>\n",
       "      <td>50</td>\n",
       "      <td>110</td>\n",
       "      <td>패션의류_기타패션의류</td>\n",
       "      <td>1135000030093100_501100026...</td>\n",
       "      <td>11_50</td>\n",
       "      <td>11350_50110</td>\n",
       "    </tr>\n",
       "    <tr>\n",
       "      <th>3</th>\n",
       "      <td>1154500002014200</td>\n",
       "      <td>5011000315087400</td>\n",
       "      <td>식품</td>\n",
       "      <td>농산물</td>\n",
       "      <td>10</td>\n",
       "      <td>11</td>\n",
       "      <td>545</td>\n",
       "      <td>50</td>\n",
       "      <td>110</td>\n",
       "      <td>식품_농산물</td>\n",
       "      <td>1154500002014200_501100031...</td>\n",
       "      <td>11_50</td>\n",
       "      <td>11545_50110</td>\n",
       "    </tr>\n",
       "    <tr>\n",
       "      <th>4</th>\n",
       "      <td>1165000021008300</td>\n",
       "      <td>5011000177051200</td>\n",
       "      <td>식품</td>\n",
       "      <td>가공식품</td>\n",
       "      <td>3</td>\n",
       "      <td>11</td>\n",
       "      <td>650</td>\n",
       "      <td>50</td>\n",
       "      <td>110</td>\n",
       "      <td>식품_가공식품</td>\n",
       "      <td>1165000021008300_501100017...</td>\n",
       "      <td>11_50</td>\n",
       "      <td>11650_50110</td>\n",
       "    </tr>\n",
       "  </tbody>\n",
       "</table>\n",
       "</div>"
      ],
      "text/plain": [
       "      SEND_SPG_INNB      REC_SPG_INNB DL_GD_LCLS_NM DL_GD_MCLS_NM  INVC_CONT  \\\n",
       "0  1129000014045300  5011000220046300          패션의류            상의          3   \n",
       "1  1135000009051200  5011000178037300         생활/건강          반려동물          3   \n",
       "2  1135000030093100  5011000265091400          패션의류        기타패션의류          9   \n",
       "3  1154500002014200  5011000315087400            식품           농산물         10   \n",
       "4  1165000021008300  5011000177051200            식품          가공식품          3   \n",
       "\n",
       "  SEND_1 SEND_2 REC_1 REC_2  ID_category                           ID_1  \\\n",
       "0     11    290    50   110      패션의류_상의  1129000014045300_501100022...   \n",
       "1     11    350    50   110   생활/건강_반려동물  1135000009051200_501100017...   \n",
       "2     11    350    50   110  패션의류_기타패션의류  1135000030093100_501100026...   \n",
       "3     11    545    50   110       식품_농산물  1154500002014200_501100031...   \n",
       "4     11    650    50   110      식품_가공식품  1165000021008300_501100017...   \n",
       "\n",
       "    ID_2         ID_3  \n",
       "0  11_50  11290_50110  \n",
       "1  11_50  11350_50110  \n",
       "2  11_50  11350_50110  \n",
       "3  11_50  11545_50110  \n",
       "4  11_50  11650_50110  "
      ]
     },
     "execution_count": 4,
     "metadata": {},
     "output_type": "execute_result"
    }
   ],
   "source": [
    "train.head()"
   ]
  },
  {
   "cell_type": "markdown",
   "id": "atlantic-canyon",
   "metadata": {},
   "source": [
    "#### 2.2) Category 변수를 Count embedding로 전환"
   ]
  },
  {
   "cell_type": "code",
   "execution_count": 5,
   "id": "wrong-permit",
   "metadata": {},
   "outputs": [],
   "source": [
    "# Count embedding\n",
    "def trans_ratio_ver(df):\n",
    "    trans_ratio = ['SEND_SPG_INNB', 'REC_SPG_INNB', 'SEND_1', 'REC_1', 'ID_category', 'ID_1', 'ID_2', 'ID_3']\n",
    "\n",
    "    for i,j in enumerate(trans_ratio):\n",
    "        cluster_count=df.groupby(j).count()\n",
    "        cluster_sum=sum(cluster_count.DL_GD_LCLS_NM)\n",
    "        cluster_count.ratio = cluster_count.DL_GD_LCLS_NM\n",
    "\n",
    "        dic = cluster_count.ratio.to_dict()\n",
    "\n",
    "        name = j + '_COUNT'\n",
    "        df[name] = df[j].map(lambda x: dic[x])\n",
    "        \n",
    "    return df\n",
    "    \n",
    "train = trans_ratio_ver(train)\n",
    "test = trans_ratio_ver(test)"
   ]
  },
  {
   "cell_type": "code",
   "execution_count": 6,
   "id": "complimentary-olympus",
   "metadata": {},
   "outputs": [
    {
     "data": {
      "text/html": [
       "<div>\n",
       "<style scoped>\n",
       "    .dataframe tbody tr th:only-of-type {\n",
       "        vertical-align: middle;\n",
       "    }\n",
       "\n",
       "    .dataframe tbody tr th {\n",
       "        vertical-align: top;\n",
       "    }\n",
       "\n",
       "    .dataframe thead th {\n",
       "        text-align: right;\n",
       "    }\n",
       "</style>\n",
       "<table border=\"1\" class=\"dataframe\">\n",
       "  <thead>\n",
       "    <tr style=\"text-align: right;\">\n",
       "      <th></th>\n",
       "      <th>DL_GD_LCLS_NM</th>\n",
       "      <th>DL_GD_MCLS_NM</th>\n",
       "      <th>INVC_CONT</th>\n",
       "      <th>SEND_SPG_INNB_COUNT</th>\n",
       "      <th>REC_SPG_INNB_COUNT</th>\n",
       "      <th>SEND_1_COUNT</th>\n",
       "      <th>REC_1_COUNT</th>\n",
       "      <th>ID_category_COUNT</th>\n",
       "      <th>ID_1_COUNT</th>\n",
       "      <th>ID_2_COUNT</th>\n",
       "      <th>ID_3_COUNT</th>\n",
       "    </tr>\n",
       "  </thead>\n",
       "  <tbody>\n",
       "    <tr>\n",
       "      <th>0</th>\n",
       "      <td>패션의류</td>\n",
       "      <td>상의</td>\n",
       "      <td>3</td>\n",
       "      <td>67</td>\n",
       "      <td>2</td>\n",
       "      <td>859</td>\n",
       "      <td>6833</td>\n",
       "      <td>321</td>\n",
       "      <td>1</td>\n",
       "      <td>859</td>\n",
       "      <td>59</td>\n",
       "    </tr>\n",
       "    <tr>\n",
       "      <th>1</th>\n",
       "      <td>생활/건강</td>\n",
       "      <td>반려동물</td>\n",
       "      <td>3</td>\n",
       "      <td>27</td>\n",
       "      <td>1</td>\n",
       "      <td>859</td>\n",
       "      <td>6833</td>\n",
       "      <td>358</td>\n",
       "      <td>1</td>\n",
       "      <td>859</td>\n",
       "      <td>30</td>\n",
       "    </tr>\n",
       "    <tr>\n",
       "      <th>2</th>\n",
       "      <td>패션의류</td>\n",
       "      <td>기타패션의류</td>\n",
       "      <td>9</td>\n",
       "      <td>2</td>\n",
       "      <td>1</td>\n",
       "      <td>859</td>\n",
       "      <td>6833</td>\n",
       "      <td>261</td>\n",
       "      <td>1</td>\n",
       "      <td>859</td>\n",
       "      <td>30</td>\n",
       "    </tr>\n",
       "    <tr>\n",
       "      <th>3</th>\n",
       "      <td>식품</td>\n",
       "      <td>농산물</td>\n",
       "      <td>10</td>\n",
       "      <td>1</td>\n",
       "      <td>10</td>\n",
       "      <td>859</td>\n",
       "      <td>6833</td>\n",
       "      <td>22162</td>\n",
       "      <td>1</td>\n",
       "      <td>859</td>\n",
       "      <td>20</td>\n",
       "    </tr>\n",
       "    <tr>\n",
       "      <th>4</th>\n",
       "      <td>식품</td>\n",
       "      <td>가공식품</td>\n",
       "      <td>3</td>\n",
       "      <td>1</td>\n",
       "      <td>2</td>\n",
       "      <td>859</td>\n",
       "      <td>6833</td>\n",
       "      <td>923</td>\n",
       "      <td>1</td>\n",
       "      <td>859</td>\n",
       "      <td>52</td>\n",
       "    </tr>\n",
       "  </tbody>\n",
       "</table>\n",
       "</div>"
      ],
      "text/plain": [
       "  DL_GD_LCLS_NM DL_GD_MCLS_NM  INVC_CONT  SEND_SPG_INNB_COUNT  \\\n",
       "0          패션의류            상의          3                   67   \n",
       "1         생활/건강          반려동물          3                   27   \n",
       "2          패션의류        기타패션의류          9                    2   \n",
       "3            식품           농산물         10                    1   \n",
       "4            식품          가공식품          3                    1   \n",
       "\n",
       "   REC_SPG_INNB_COUNT  SEND_1_COUNT  REC_1_COUNT  ID_category_COUNT  \\\n",
       "0                   2           859         6833                321   \n",
       "1                   1           859         6833                358   \n",
       "2                   1           859         6833                261   \n",
       "3                  10           859         6833              22162   \n",
       "4                   2           859         6833                923   \n",
       "\n",
       "   ID_1_COUNT  ID_2_COUNT  ID_3_COUNT  \n",
       "0           1         859          59  \n",
       "1           1         859          30  \n",
       "2           1         859          30  \n",
       "3           1         859          20  \n",
       "4           1         859          52  "
      ]
     },
     "execution_count": 6,
     "metadata": {},
     "output_type": "execute_result"
    }
   ],
   "source": [
    "# 불필요한 변수 삭제\n",
    "cols = ['SEND_SPG_INNB', 'REC_SPG_INNB', 'SEND_1', 'SEND_2', 'REC_1', 'REC_2', 'ID_category', 'ID_1', 'ID_2', 'ID_3']\n",
    "\n",
    "train.drop(cols, axis=1, inplace=True)\n",
    "test.drop(cols, axis=1, inplace=True)\n",
    "train.head()"
   ]
  },
  {
   "cell_type": "markdown",
   "id": "italian-rental",
   "metadata": {},
   "source": [
    "#### 2.3) 스케일링(log, minmax) 적용"
   ]
  },
  {
   "cell_type": "code",
   "execution_count": 7,
   "id": "ongoing-belfast",
   "metadata": {},
   "outputs": [
    {
     "name": "stdout",
     "output_type": "stream",
     "text": [
      "로그(Log)변환을 적용할 변수명 :  ['ID_1_COUNT', 'REC_SPG_INNB_COUNT', 'ID_3_COUNT', 'SEND_SPG_INNB_COUNT']\n",
      "로그(Log)변환을 적용할 변수명 :  ['ID_1_COUNT', 'REC_SPG_INNB_COUNT', 'ID_3_COUNT', 'SEND_SPG_INNB_COUNT']\n"
     ]
    }
   ],
   "source": [
    "def MINMAX_SC(data):\n",
    "    df = data.copy()\n",
    "    try:\n",
    "        # skew가 1이 넘는 변수에 대해 log 변환\n",
    "        skewness = df.drop(['INVC_CONT','DL_GD_LCLS_NM','DL_GD_MCLS_NM'], axis = 1).apply(lambda x: x.skew()).sort_values(ascending=False)\n",
    "        skew_feats = skewness[skewness>1].index\n",
    "        print('로그(Log)변환을 적용할 변수명 : ', skew_feats.to_list())\n",
    "\n",
    "        df[skew_feats] = np.log1p(df[skew_feats])\n",
    "        \n",
    "                # Minmax scaler 적용\n",
    "        numerical_feats = df.dtypes[df.dtypes != 'object'].index.tolist()\n",
    "        numerical_feats.remove('INVC_CONT')\n",
    "        df[numerical_feats] = MinMaxScaler().fit_transform(df[numerical_feats])\n",
    "        \n",
    "    except:\n",
    "        skewness = df.drop(['DL_GD_LCLS_NM','DL_GD_MCLS_NM'], axis = 1).apply(lambda x: x.skew()).sort_values(ascending=False)\n",
    "        skew_feats = skewness[skewness>1].index\n",
    "        print('로그(Log)변환을 적용할 변수명 : ', skew_feats.to_list())\n",
    "\n",
    "        df[skew_feats] = np.log1p(df[skew_feats])\n",
    "        \n",
    "        # Minmax scaler 적용\n",
    "        numerical_feats = df.dtypes[df.dtypes != 'object'].index.tolist()\n",
    "        df[numerical_feats] = MinMaxScaler().fit_transform(df[numerical_feats])\n",
    "\n",
    "    \n",
    "    return df\n",
    "train = MINMAX_SC(train)\n",
    "test = MINMAX_SC(test)"
   ]
  },
  {
   "cell_type": "markdown",
   "id": "caring-person",
   "metadata": {},
   "source": [
    "#### 2.4) 상관계수 확인"
   ]
  },
  {
   "cell_type": "code",
   "execution_count": 8,
   "id": "advanced-seafood",
   "metadata": {},
   "outputs": [
    {
     "data": {
      "image/png": "[encoded data removed]",
      "text/plain": [
       "<Figure size 864x864 with 2 Axes>"
      ]
     },
     "metadata": {
      "needs_background": "light"
     },
     "output_type": "display_data"
    }
   ],
   "source": [
    "# 상관계수 데이터 불러오기\n",
    "cor_data = train.copy()\n",
    "cor_data.drop(['INVC_CONT'], axis = 1, inplace = True)\n",
    "\n",
    "# 절대값 기준으로 상관계수 검정\n",
    "corr_matrix = cor_data.corr().abs()\n",
    "mask = np.zeros_like(corr_matrix, dtype=np.bool)\n",
    "mask[np.triu_indices_from(mask)]= True\n",
    "\n",
    "# 0.8 강한 상관계수 값을 보이는 변수들만 추출\n",
    "corr_rel_check = (corr_matrix > 0.4).sum()-1 \n",
    "corr_remove = pd.DataFrame(corr_rel_check[corr_rel_check > 0]).T\n",
    "\n",
    "# 상관계수 다시 생성\n",
    "corr_remove = cor_data[corr_remove.columns.to_list()].corr().abs()\n",
    "mask = np.zeros_like(corr_remove, dtype=np.bool)\n",
    "mask[np.triu_indices_from(mask)]= True\n",
    "\n",
    "f, ax = plt.subplots(figsize=(12, 12))\n",
    "heatmap = sns.heatmap(corr_remove,\n",
    "                      mask = mask,\n",
    "                      square = True,\n",
    "                      linewidths = .5,\n",
    "                      cmap = 'Reds', #\n",
    "                      cbar_kws = {'shrink': .4,\n",
    "                                'ticks' : [0 , 0.25, 0.5, 0.75 , 1]},\n",
    "                      vmin = 0,\n",
    "                      vmax = 1,\n",
    "                      annot = True\n",
    "                     )\n",
    "sns.set_style({'xtick.bottom': True}, {'ytick.left': True})"
   ]
  },
  {
   "cell_type": "markdown",
   "id": "suitable-worthy",
   "metadata": {},
   "source": [
    "# 3. 모델링(Catboost, LGBM)"
   ]
  },
  {
   "cell_type": "code",
   "execution_count": 13,
   "id": "violent-patrick",
   "metadata": {},
   "outputs": [],
   "source": [
    "# 평가지표 RMSE 설정\n",
    "def RMSE(predictions, targets):\n",
    "    return np.sqrt(((predictions - targets) ** 2).mean())\n",
    "\n",
    "# Fold 수 선정, 종속변수 확인\n",
    "n_fold = 5\n",
    "target = 'INVC_CONT'"
   ]
  },
  {
   "cell_type": "markdown",
   "id": "dental-gravity",
   "metadata": {},
   "source": [
    "#### 3.1) Catboost"
   ]
  },
  {
   "cell_type": "code",
   "execution_count": 14,
   "id": "centered-coverage",
   "metadata": {
    "scrolled": true
   },
   "outputs": [
    {
     "name": "stdout",
     "output_type": "stream",
     "text": [
      "\n",
      "----------------- Fold 1 -----------------\n",
      "\n",
      "Learning rate set to 0.086959\n",
      "0:\tlearn: 5.6098081\ttest: 6.7708175\tbest: 6.7708175 (0)\ttotal: 36.1ms\tremaining: 36.1s\n"
     ]
    },
    {
     "name": "stderr",
     "output_type": "stream",
     "text": [
      "Custom logger is already specified. Specify more than one logger at same time is not thread safe."
     ]
    },
    {
     "name": "stdout",
     "output_type": "stream",
     "text": [
      "100:\tlearn: 5.0840352\ttest: 6.1620857\tbest: 6.1620857 (100)\ttotal: 3.79s\tremaining: 33.8s\n",
      "200:\tlearn: 4.9844722\ttest: 6.0584315\tbest: 6.0582821 (197)\ttotal: 7.3s\tremaining: 29s\n",
      "300:\tlearn: 4.8850807\ttest: 5.9580005\tbest: 5.9577885 (287)\ttotal: 10.9s\tremaining: 25.3s\n",
      "400:\tlearn: 4.8155791\ttest: 5.9382055\tbest: 5.9368390 (380)\ttotal: 14.4s\tremaining: 21.6s\n",
      "500:\tlearn: 4.7504001\ttest: 5.8846277\tbest: 5.8846277 (500)\ttotal: 18s\tremaining: 17.9s\n",
      "600:\tlearn: 4.6913387\ttest: 5.8807930\tbest: 5.8786350 (576)\ttotal: 21.6s\tremaining: 14.4s\n",
      "Stopped by overfitting detector  (100 iterations wait)\n",
      "\n",
      "bestTest = 5.878635\n",
      "bestIteration = 576\n",
      "\n",
      "Shrink model to first 577 iterations.\n",
      "CV RMSE Score: 5.878635\n",
      "\n",
      "----------------- Fold 2 -----------------\n",
      "\n",
      "Learning rate set to 0.086959\n",
      "0:\tlearn: 5.7858027\ttest: 5.2825344\tbest: 5.2825344 (0)\ttotal: 38.2ms\tremaining: 38.2s\n",
      "100:\tlearn: 5.2434283\ttest: 5.1777197\tbest: 5.1774540 (99)\ttotal: 3.45s\tremaining: 30.7s\n",
      "200:\tlearn: 5.0638136\ttest: 5.1565810\tbest: 5.1547529 (190)\ttotal: 6.83s\tremaining: 27.2s\n",
      "300:\tlearn: 4.9766547\ttest: 5.1503453\tbest: 5.1487059 (207)\ttotal: 10.3s\tremaining: 24s\n",
      "400:\tlearn: 4.8894617\ttest: 5.1478666\tbest: 5.1452779 (392)\ttotal: 13.9s\tremaining: 20.8s\n",
      "Stopped by overfitting detector  (100 iterations wait)\n",
      "\n",
      "bestTest = 5.145277931\n",
      "bestIteration = 392\n",
      "\n",
      "Shrink model to first 393 iterations.\n",
      "CV RMSE Score: 5.145278\n",
      "\n",
      "----------------- Fold 3 -----------------\n",
      "\n",
      "Learning rate set to 0.086959\n",
      "0:\tlearn: 5.7805118\ttest: 5.3222017\tbest: 5.3222017 (0)\ttotal: 50ms\tremaining: 50s\n",
      "100:\tlearn: 5.0937284\ttest: 5.3530703\tbest: 5.2016520 (16)\ttotal: 3.59s\tremaining: 31.9s\n",
      "Stopped by overfitting detector  (100 iterations wait)\n",
      "\n",
      "bestTest = 5.201651976\n",
      "bestIteration = 16\n",
      "\n",
      "Shrink model to first 17 iterations.\n",
      "CV RMSE Score: 5.201652\n",
      "\n",
      "----------------- Fold 4 -----------------\n",
      "\n",
      "Learning rate set to 0.086959\n",
      "0:\tlearn: 5.6648130\ttest: 6.3450332\tbest: 6.3450332 (0)\ttotal: 34.5ms\tremaining: 34.4s\n",
      "100:\tlearn: 5.1726898\ttest: 5.3702709\tbest: 5.3702709 (100)\ttotal: 3.5s\tremaining: 31.2s\n",
      "200:\tlearn: 5.0390382\ttest: 5.1593065\tbest: 5.1548724 (197)\ttotal: 6.86s\tremaining: 27.3s\n",
      "300:\tlearn: 4.9311820\ttest: 5.1026106\tbest: 5.1019635 (296)\ttotal: 10.3s\tremaining: 23.9s\n",
      "400:\tlearn: 4.8628645\ttest: 5.0842709\tbest: 5.0784159 (341)\ttotal: 13.8s\tremaining: 20.6s\n",
      "500:\tlearn: 4.8061224\ttest: 5.0609669\tbest: 5.0609669 (500)\ttotal: 17.4s\tremaining: 17.4s\n",
      "600:\tlearn: 4.7560969\ttest: 5.0486508\tbest: 5.0478050 (587)\ttotal: 20.9s\tremaining: 13.9s\n",
      "700:\tlearn: 4.7126280\ttest: 5.0187870\tbest: 5.0183131 (681)\ttotal: 24.6s\tremaining: 10.5s\n",
      "800:\tlearn: 4.6684935\ttest: 5.0156211\tbest: 5.0153917 (793)\ttotal: 28.2s\tremaining: 7.01s\n",
      "900:\tlearn: 4.6301134\ttest: 5.0182410\tbest: 5.0132685 (833)\ttotal: 31.9s\tremaining: 3.51s\n",
      "Stopped by overfitting detector  (100 iterations wait)\n",
      "\n",
      "bestTest = 5.013268463\n",
      "bestIteration = 833\n",
      "\n",
      "Shrink model to first 834 iterations.\n",
      "CV RMSE Score: 5.013268\n",
      "\n",
      "----------------- Fold 5 -----------------\n",
      "\n",
      "Learning rate set to 0.086959\n",
      "0:\tlearn: 5.7962432\ttest: 5.1501511\tbest: 5.1501511 (0)\ttotal: 34ms\tremaining: 34s\n",
      "100:\tlearn: 5.1483130\ttest: 5.0687010\tbest: 5.0655745 (91)\ttotal: 3.43s\tremaining: 30.5s\n",
      "Stopped by overfitting detector  (100 iterations wait)\n",
      "\n",
      "bestTest = 5.065574457\n",
      "bestIteration = 91\n",
      "\n",
      "Shrink model to first 92 iterations.\n",
      "CV RMSE Score: 5.065574\n",
      "\n",
      "----------------- Fold 6 -----------------\n",
      "\n",
      "Learning rate set to 0.086959\n",
      "0:\tlearn: 5.8568514\ttest: 4.5042987\tbest: 4.5042987 (0)\ttotal: 33.7ms\tremaining: 33.7s\n",
      "100:\tlearn: 5.1914220\ttest: 4.3481070\tbest: 4.3451250 (90)\ttotal: 3.43s\tremaining: 30.5s\n",
      "200:\tlearn: 5.0572683\ttest: 4.3459336\tbest: 4.3421485 (188)\ttotal: 6.92s\tremaining: 27.5s\n",
      "Stopped by overfitting detector  (100 iterations wait)\n",
      "\n",
      "bestTest = 4.342148467\n",
      "bestIteration = 188\n",
      "\n",
      "Shrink model to first 189 iterations.\n",
      "CV RMSE Score: 4.342148\n",
      "\n",
      "----------------- Fold 7 -----------------\n",
      "\n",
      "Learning rate set to 0.086959\n",
      "0:\tlearn: 5.5747472\ttest: 7.0274532\tbest: 7.0274532 (0)\ttotal: 33.1ms\tremaining: 33.1s\n",
      "100:\tlearn: 5.1740357\ttest: 5.8834107\tbest: 5.8812566 (85)\ttotal: 3.51s\tremaining: 31.3s\n",
      "200:\tlearn: 5.0357647\ttest: 5.5824581\tbest: 5.5805871 (197)\ttotal: 7s\tremaining: 27.8s\n",
      "300:\tlearn: 4.9226637\ttest: 5.5099792\tbest: 5.5049130 (278)\ttotal: 10.5s\tremaining: 24.3s\n",
      "Stopped by overfitting detector  (100 iterations wait)\n",
      "\n",
      "bestTest = 5.50491301\n",
      "bestIteration = 278\n",
      "\n",
      "Shrink model to first 279 iterations.\n",
      "CV RMSE Score: 5.504913\n",
      "\n",
      "----------------- Fold 8 -----------------\n",
      "\n",
      "Learning rate set to 0.086959\n",
      "0:\tlearn: 5.7617801\ttest: 5.5045395\tbest: 5.5045395 (0)\ttotal: 34.6ms\tremaining: 34.6s\n",
      "100:\tlearn: 5.0645667\ttest: 5.5639938\tbest: 5.4288060 (10)\ttotal: 3.44s\tremaining: 30.6s\n",
      "Stopped by overfitting detector  (100 iterations wait)\n",
      "\n",
      "bestTest = 5.428805976\n",
      "bestIteration = 10\n",
      "\n",
      "Shrink model to first 11 iterations.\n",
      "CV RMSE Score: 5.428806\n",
      "\n",
      "----------------- Fold 9 -----------------\n",
      "\n",
      "Learning rate set to 0.086959\n",
      "0:\tlearn: 5.7959644\ttest: 5.1638131\tbest: 5.1638131 (0)\ttotal: 33.9ms\tremaining: 33.9s\n",
      "100:\tlearn: 5.2094890\ttest: 4.9054300\tbest: 4.9025081 (91)\ttotal: 3.35s\tremaining: 29.8s\n",
      "200:\tlearn: 5.0442077\ttest: 4.9130354\tbest: 4.9009374 (106)\ttotal: 6.73s\tremaining: 26.8s\n",
      "Stopped by overfitting detector  (100 iterations wait)\n",
      "\n",
      "bestTest = 4.900937351\n",
      "bestIteration = 106\n",
      "\n",
      "Shrink model to first 107 iterations.\n",
      "CV RMSE Score: 4.900937\n",
      "\n",
      "----------------- Fold 10 -----------------\n",
      "\n",
      "Learning rate set to 0.086959\n",
      "0:\tlearn: 5.7276347\ttest: 5.8120046\tbest: 5.8120046 (0)\ttotal: 33.8ms\tremaining: 33.7s\n",
      "100:\tlearn: 5.0785653\ttest: 5.6713372\tbest: 5.6713372 (100)\ttotal: 3.56s\tremaining: 31.7s\n",
      "200:\tlearn: 4.9325191\ttest: 5.6413810\tbest: 5.6411186 (198)\ttotal: 7.02s\tremaining: 27.9s\n",
      "300:\tlearn: 4.8429959\ttest: 5.6069610\tbest: 5.6062869 (298)\ttotal: 10.6s\tremaining: 24.6s\n",
      "400:\tlearn: 4.7767692\ttest: 5.5978606\tbest: 5.5978606 (400)\ttotal: 14.2s\tremaining: 21.3s\n",
      "500:\tlearn: 4.7273155\ttest: 5.5897455\tbest: 5.5893049 (487)\ttotal: 17.9s\tremaining: 17.8s\n",
      "600:\tlearn: 4.6779836\ttest: 5.5908394\tbest: 5.5890782 (502)\ttotal: 21.4s\tremaining: 14.2s\n",
      "Stopped by overfitting detector  (100 iterations wait)\n",
      "\n",
      "bestTest = 5.589078176\n",
      "bestIteration = 502\n",
      "\n",
      "Shrink model to first 503 iterations.\n",
      "CV RMSE Score: 5.589078\n",
      "\t RMSE: 5.222735\n"
     ]
    }
   ],
   "source": [
    "# 데이터 분할\n",
    "X = train.drop(target, axis=1)\n",
    "y = train[target]\n",
    "X_test = test\n",
    "\n",
    "skfold = StratifiedKFold(n_splits=n_fold, shuffle=True, random_state=84)\n",
    "\n",
    "folds=[]\n",
    "for train_idx, valid_idx in skfold.split(X, y):\n",
    "        folds.append((train_idx, valid_idx))\n",
    "\n",
    "cat_pred = np.zeros((X.shape[0]))\n",
    "cat_pred_test = np.zeros((X_test.shape[0]))\n",
    "cat_cols = ['DL_GD_LCLS_NM', 'DL_GD_MCLS_NM']\n",
    "\n",
    "for fold in range(n_fold):\n",
    "    print(f'\\n----------------- Fold {fold+1} -----------------\\n')\n",
    "\n",
    "    train_idx, valid_idx = folds[fold]\n",
    "    X_train, X_valid, y_train, y_valid = X.iloc[train_idx], X.iloc[valid_idx], y[train_idx], y[valid_idx]\n",
    "\n",
    "    train_data = Pool(data=X_train, label=y_train, cat_features=cat_cols)\n",
    "    valid_data = Pool(data=X_valid, label=y_valid, cat_features=cat_cols)\n",
    "\n",
    "\n",
    "    model_cat = CatBoostRegressor(random_state = 84)\n",
    "    model_cat.fit(train_data, eval_set=valid_data, use_best_model=True, \n",
    "                  early_stopping_rounds=100, \n",
    "                  verbose=100)\n",
    "  \n",
    "    cat_pred[valid_idx] = model_cat.predict(X_valid)\n",
    "    cat_pred_test += model_cat.predict(X_test) / n_fold\n",
    "    print(f'CV RMSE Score: {RMSE(y_valid, cat_pred[valid_idx]):.6f}')\n",
    "    \n",
    "print(f'\\t RMSE: {RMSE(y, cat_pred):.6f}')"
   ]
  },
  {
   "cell_type": "code",
   "execution_count": 15,
   "id": "spoken-amber",
   "metadata": {},
   "outputs": [
    {
     "name": "stdout",
     "output_type": "stream",
     "text": [
      "[4.85703009 5.15118309 5.252598   ... 5.53593046 5.18338251 5.80589704]\n"
     ]
    }
   ],
   "source": [
    "# 1차 CV  RMSE: 5.635174\n",
    "# 2차 CV  RMSE: 5.412020\n",
    "# 3차 CV  RMSE: 5.369225\n",
    "# 4차 CV  RMSE: 5.274312\n",
    "# 5차 CV  RMSE: 5.270921\n",
    "# 6차 CV  RMSE: 5.222735\n",
    "print(cat_pred_test)\n",
    "\n",
    "# 저장\n",
    "submission['INVC_CONT']  = cat_pred_test\n",
    "submission.to_csv('Catboost_count.csv',index = False)"
   ]
  },
  {
   "cell_type": "markdown",
   "id": "emotional-ministry",
   "metadata": {},
   "source": [
    "#### 3.2) 변수 중요도 확인"
   ]
  },
  {
   "cell_type": "code",
   "execution_count": 16,
   "id": "stainless-difference",
   "metadata": {},
   "outputs": [
    {
     "data": {
      "image/png": "[encoded data removed]",
      "text/plain": [
       "<Figure size 720x576 with 1 Axes>"
      ]
     },
     "metadata": {
      "needs_background": "light"
     },
     "output_type": "display_data"
    }
   ],
   "source": [
    "def plot_feature_importance(importance,names,model_type):\n",
    "    \n",
    "    feature_importance = np.array(importance)\n",
    "    feature_names = np.array(names)\n",
    "    \n",
    "    data={'feature_names':feature_names,'feature_importance':feature_importance}\n",
    "    fi_df = pd.DataFrame(data)\n",
    "    \n",
    "    fi_df.sort_values(by=['feature_importance'], ascending=False,inplace=True)\n",
    "\n",
    "    plt.figure(figsize=(10,8))\n",
    "\n",
    "    sns.barplot(x=fi_df['feature_importance'], y=fi_df['feature_names'])\n",
    "\n",
    "    plt.title(model_type + ' Feature Importance')\n",
    "    plt.xlabel('Feature Importance')\n",
    "    plt.ylabel('Feature Names')\n",
    "    \n",
    "plot_feature_importance(model_cat.get_feature_importance(),X_test.columns,'CATBOOST')"
   ]
  },
  {
   "cell_type": "markdown",
   "id": "chief-nashville",
   "metadata": {},
   "source": [
    "#### 3.3) 모델링(Baseline, LightGBM)"
   ]
  },
  {
   "cell_type": "code",
   "execution_count": 17,
   "id": "mediterranean-australia",
   "metadata": {},
   "outputs": [
    {
     "name": "stdout",
     "output_type": "stream",
     "text": [
      "(32000, 5) (4640, 4) (4640, 2)\n"
     ]
    }
   ],
   "source": [
    "train = pd.read_csv('./data/train_df.csv', engine='python',encoding='CP949')\n",
    "test = pd.read_csv('./data/test_df.csv', engine='python',encoding='CP949')\n",
    "\n",
    "# 불필요한 변수 제거\n",
    "train.drop('index', axis=1 ,inplace= True)\n",
    "test.drop('index', axis=1 ,inplace= True)\n",
    "submission = pd.read_csv('./data/sample_submission.csv', engine='python',encoding='CP949')\n",
    "print(train.shape, test.shape, submission.shape)"
   ]
  },
  {
   "cell_type": "code",
   "execution_count": 18,
   "id": "naval-legend",
   "metadata": {},
   "outputs": [
    {
     "name": "stdout",
     "output_type": "stream",
     "text": [
      "(32000, 29) (4640, 28)\n"
     ]
    }
   ],
   "source": [
    "from lightgbm import LGBMRegressor\n",
    "\n",
    "train_one = pd.get_dummies(train)\n",
    "test_one = pd.get_dummies(test)\n",
    "print(train_one.shape, test_one.shape)\n",
    "\n",
    "train_X = train_one.drop('INVC_CONT',axis = 1)\n",
    "train_Y = train_one['INVC_CONT']\n",
    "#모델 정의\n",
    "model = LGBMRegressor(random_state = 84)\n",
    "model.fit(train_X,train_Y)\n",
    "pred = model.predict(test_one)\n",
    "submission['INVC_CONT'] = pred"
   ]
  },
  {
   "cell_type": "code",
   "execution_count": 19,
   "id": "hungry-hormone",
   "metadata": {},
   "outputs": [
    {
     "name": "stdout",
     "output_type": "stream",
     "text": [
      "0      4.59435\n",
      "1      6.09149\n",
      "2      4.03826\n",
      "3      4.54464\n",
      "4      4.12210\n",
      "         ...  \n",
      "4635   5.15585\n",
      "4636   4.43762\n",
      "4637   4.70186\n",
      "4638   4.39281\n",
      "4639   4.41670\n",
      "Name: INVC_CONT, Length: 4640, dtype: float64\n"
     ]
    }
   ],
   "source": [
    "print(submission['INVC_CONT'])\n",
    "submission.to_csv('LGB_count_only.csv',index = False)"
   ]
  },
  {
   "cell_type": "markdown",
   "id": "amber-tomato",
   "metadata": {},
   "source": [
    "# 4. 사용하지 않은 코드"
   ]
  },
  {
   "cell_type": "markdown",
   "id": "stuck-grant",
   "metadata": {},
   "source": [
    "#### 1) 카테고리 별 종속변수의 평균 값, Data Leakage 예상"
   ]
  },
  {
   "cell_type": "code",
   "execution_count": null,
   "id": "choice-sucking",
   "metadata": {},
   "outputs": [],
   "source": [
    "# 고유 아이디\n",
    "ID_INNB_df = train.groupby('ID_INNB',as_index = False)['INVC_CONT'].mean()\n",
    "ID_INNB_df.rename(columns = {'INVC_CONT' : 'ID_INNB_mean'}, inplace = True)\n",
    "\n",
    "# 카테고리\n",
    "ID_category_df = train.groupby('ID_category',as_index = False)['INVC_CONT'].mean()\n",
    "ID_category_df.rename(columns = {'INVC_CONT' : 'ID_category_mean'}, inplace = True)\n",
    "\n",
    "# 병합\n",
    "train = pd.merge(train, ID_INNB_df, how = 'left')\n",
    "train = pd.merge(train, ID_category_df, how = 'left')\n",
    "\n",
    "# 병합\n",
    "test = pd.merge(test, ID_INNB_df, how = 'left')\n",
    "test = pd.merge(test, ID_category_df, how = 'left')\n",
    "test.fillna(0, inplace = True)\n",
    "\n",
    "def outlier(data):\n",
    "    df = data.copy()\n",
    "    df.loc[df['ID_INNB_mean'] > 10, 'ID_INNB_mean'] = 1\n",
    "    df['ID_INNB_mean'] = df['ID_INNB_mean'].apply(lambda x : 0 if x != 1 else 1)\n",
    "    return df\n",
    "\n",
    "train = outlier(train)\n",
    "test = outlier(test)"
   ]
  },
  {
   "cell_type": "markdown",
   "id": "acceptable-error",
   "metadata": {},
   "source": [
    "#### 2) 클러스터링 구성을 통한 새로운 변수 도출"
   ]
  },
  {
   "cell_type": "code",
   "execution_count": null,
   "id": "collectible-press",
   "metadata": {},
   "outputs": [],
   "source": [
    "from sklearn.cluster import KMeans\n",
    "\n",
    "# 클러스터링 구성 : \n",
    "kmeans_train = train_one.drop(['INVC_CONT'], axis=1)\n",
    "kmeans = KMeans(n_clusters=10, random_state=42).fit(kmeans_train)\n",
    "train_one['cluster'] = kmeans.predict(kmeans_train)\n",
    "test_one['cluster'] = kmeans.predict(test_one)"
   ]
  },
  {
   "cell_type": "markdown",
   "id": "universal-burton",
   "metadata": {},
   "source": [
    "#### 3) Pycaret AutoML"
   ]
  },
  {
   "cell_type": "code",
   "execution_count": null,
   "id": "finished-representation",
   "metadata": {},
   "outputs": [],
   "source": [
    "from pycaret.datasets import get_data \n",
    "from pycaret.classification import *\n",
    "from pycaret.utils import check_metric\n",
    "# https://minimin2.tistory.com/137\n",
    "\n",
    "\n",
    "# dataset 생성\n",
    "dataset = get_data('juice')\n",
    "\n",
    "# setup으로 init\n",
    "clf = setup(data=dataset, target='Purchase')\n",
    "\n",
    "# ML 모델 성능 비교\n",
    "top5 = compare_models(sort='Accuracy', n_select=5)\n",
    "# 모델 튜닝, blending\n",
    "tuned_top5 = [tune_model(i) for i in top5]\n",
    "blender_top5 = blend_models(estimator_list=tuned_top5)\n",
    "\n",
    "# 모델 최종 확정, 전체 데이터 학습\n",
    "final_model = finalize_model(blender_top5)\n",
    "# 테스트셋 predict\n",
    "prediction = predict_model(final_model, data=dataset.iloc[-100:])\n",
    "\n",
    "# metric 확인\n",
    "check_metric(prediction['Purchase'], prediction['Label'], metric = 'Accuracy')"
   ]
  }
 ],
 "metadata": {
  "kernelspec": {
   "display_name": "Python 3",
   "language": "python",
   "name": "python3"
  },
  "language_info": {
   "codemirror_mode": {
    "name": "ipython",
    "version": 3
   },
   "file_extension": ".py",
   "mimetype": "text/x-python",
   "name": "python",
   "nbconvert_exporter": "python",
   "pygments_lexer": "ipython3",
   "version": "3.8.5"
  }
 },
 "nbformat": 4,
 "nbformat_minor": 5
}
